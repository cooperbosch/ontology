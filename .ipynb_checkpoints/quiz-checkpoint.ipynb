{
 "cells": [
  {
   "cell_type": "code",
   "execution_count": 1,
   "id": "adfab6f0-d125-4268-bfb1-71bc2b62c67f",
   "metadata": {},
   "outputs": [],
   "source": [
    "# Imports\n",
    "from rdflib import Graph\n",
    "from rdflib.namespace import RDFS\n",
    "import time"
   ]
  },
  {
   "cell_type": "code",
   "execution_count": 2,
   "id": "d8b9fca1-069e-4b43-a221-534573cd6f2f",
   "metadata": {},
   "outputs": [
    {
     "name": "stdout",
     "output_type": "stream",
     "text": [
      "parsing\n",
      "parsed in 138 seconds\n"
     ]
    }
   ],
   "source": [
    "# Takes a while to run\n",
    "print('parsing')\n",
    "\n",
    "start = time.time()\n",
    "\n",
    "g = Graph()\n",
    "g.parse(\"mondo.owl\")\n",
    "\n",
    "print('parsed in ' + str(int(time.time() - start)) + ' seconds')"
   ]
  },
  {
   "cell_type": "code",
   "execution_count": 3,
   "id": "ea7475dd-5b53-4f0b-bc3a-54a3db7411a8",
   "metadata": {
    "scrolled": true
   },
   "outputs": [
    {
     "name": "stdout",
     "output_type": "stream",
     "text": [
      "http://www.w3.org/2000/01/rdf-schema#subClassOf\n",
      "http://www.geneontology.org/formats/oboInOwl#hasSynonymType\n",
      "http://www.geneontology.org/formats/oboInOwl#is_metadata_tag\n",
      "http://purl.org/dc/elements/1.1/description\n",
      "http://purl.obolibrary.org/obo/IAO_0000233\n",
      "http://www.w3.org/2002/07/owl#annotatedProperty\n",
      "http://www.w3.org/2003/11/swrl#classPredicate\n",
      "http://www.w3.org/2002/07/owl#unionOf\n",
      "http://www.w3.org/1999/02/22-rdf-syntax-ns#rest\n",
      "http://purl.org/dc/terms/creator\n",
      "http://www.w3.org/2004/02/skos/core#broadMatch\n",
      "http://www.w3.org/2002/07/owl#members\n",
      "http://purl.obolibrary.org/obo/RO_0002161\n",
      "http://www.geneontology.org/formats/oboInOwl#creation_date\n",
      "http://purl.obolibrary.org/obo/RO_0002175\n",
      "http://www.w3.org/2002/07/owl#hasSelf\n",
      "http://www.w3.org/2002/07/owl#annotatedTarget\n",
      "http://www.w3.org/2003/11/swrl#argument2\n",
      "http://www.geneontology.org/formats/oboInOwl#hasRelatedSynonym\n",
      "http://www.w3.org/2002/07/owl#complementOf\n",
      "http://purl.obolibrary.org/obo/mondo#should_conform_to\n",
      "http://www.geneontology.org/formats/oboInOwl#hasAlternativeId\n",
      "http://www.w3.org/2000/01/rdf-schema#comment\n",
      "http://www.w3.org/2002/07/owl#allValuesFrom\n",
      "http://www.w3.org/2002/07/owl#annotatedSource\n",
      "http://purl.org/dc/elements/1.1/date\n",
      "http://www.geneontology.org/formats/oboInOwl#hasDbXref\n",
      "http://www.w3.org/2000/01/rdf-schema#subPropertyOf\n",
      "http://www.w3.org/2002/07/owl#intersectionOf\n",
      "http://www.w3.org/2002/07/owl#onClass\n",
      "http://www.w3.org/2002/07/owl#inverseOf\n",
      "http://www.w3.org/2002/07/owl#oneOf\n",
      "http://www.geneontology.org/formats/oboInOwl#hasExactSynonym\n",
      "http://purl.obolibrary.org/obo/IAO_0000600\n",
      "http://purl.obolibrary.org/obo/IAO_0006012\n",
      "http://purl.obolibrary.org/obo/mondo#excluded_synonym\n",
      "http://www.geneontology.org/formats/oboInOwl#inSubset\n",
      "http://www.geneontology.org/formats/oboInOwl#hasBroadSynonym\n",
      "http://www.geneontology.org/formats/oboInOwl#hasOBOFormatVersion\n",
      "http://www.w3.org/2000/01/rdf-schema#label\n",
      "http://www.geneontology.org/formats/oboInOwl#hasNarrowSynonym\n",
      "http://purl.obolibrary.org/obo/IAO_0000111\n",
      "http://www.w3.org/2004/02/skos/core#closeMatch\n",
      "http://www.w3.org/2002/07/owl#propertyChainAxiom\n",
      "https://w3id.org/semapv/vocab/crossSpeciesExactMatch\n",
      "http://purl.obolibrary.org/obo/IAO_0000232\n",
      "http://www.w3.org/2002/07/owl#distinctMembers\n",
      "http://www.w3.org/1999/02/22-rdf-syntax-ns#type\n",
      "http://www.geneontology.org/formats/oboInOwl#id\n",
      "http://www.w3.org/2004/02/skos/core#relatedMatch\n",
      "http://purl.org/dc/terms/source\n",
      "http://purl.org/dc/terms/license\n",
      "http://www.w3.org/2000/01/rdf-schema#seeAlso\n",
      "http://purl.obolibrary.org/obo/IAO_0000700\n",
      "http://www.w3.org/2002/07/owl#disjointWith\n",
      "http://www.geneontology.org/formats/oboInOwl#is_class_level\n",
      "http://purl.obolibrary.org/obo/IAO_0000116\n",
      "http://www.w3.org/2004/02/skos/core#exactMatch\n",
      "http://purl.org/dc/terms/conformsTo\n",
      "http://www.w3.org/2002/07/owl#onProperty\n",
      "http://www.geneontology.org/formats/oboInOwl#shorthand\n",
      "http://purl.obolibrary.org/obo/IAO_0000117\n",
      "http://www.geneontology.org/formats/oboInOwl#consider\n",
      "http://purl.obolibrary.org/obo/IAO_0000119\n",
      "http://purl.obolibrary.org/obo/IAO_0000118\n",
      "http://www.w3.org/2003/11/swrl#argument1\n",
      "http://www.w3.org/2003/11/swrl#propertyPredicate\n",
      "http://www.w3.org/2000/01/rdf-schema#range\n",
      "http://purl.obolibrary.org/obo/IAO_0100001\n",
      "http://purl.obolibrary.org/obo/IAO_0000589\n",
      "http://www.w3.org/2002/07/owl#qualifiedCardinality\n",
      "http://www.w3.org/2002/07/owl#equivalentClass\n",
      "http://www.w3.org/2002/07/owl#someValuesFrom\n",
      "http://purl.org/dc/elements/1.1/title\n",
      "http://purl.obolibrary.org/obo/mondo#excluded_from_qc_check\n",
      "http://purl.obolibrary.org/obo/mondo#excluded_subClassOf\n",
      "http://www.w3.org/2003/11/swrl#head\n",
      "http://www.w3.org/2002/07/owl#minQualifiedCardinality\n",
      "http://purl.obolibrary.org/obo/IAO_0000231\n",
      "http://www.w3.org/1999/02/22-rdf-syntax-ns#first\n",
      "http://www.w3.org/2000/01/rdf-schema#domain\n",
      "http://www.w3.org/2004/02/skos/core#narrowMatch\n",
      "http://www.w3.org/2002/07/owl#versionIRI\n",
      "http://purl.obolibrary.org/obo/IAO_0000112\n",
      "http://purl.obolibrary.org/obo/IAO_0000115\n",
      "http://purl.obolibrary.org/obo/IAO_0000114\n",
      "http://xmlns.com/foaf/0.1/homepage\n",
      "http://purl.obolibrary.org/obo/IAO_0000234\n",
      "http://www.w3.org/2003/11/swrl#body\n",
      "http://www.geneontology.org/formats/oboInOwl#source\n",
      "http://www.geneontology.org/formats/oboInOwl#created_by\n",
      "http://www.w3.org/2002/07/owl#deprecated\n"
     ]
    }
   ],
   "source": [
    "# Some exploration of our graph\n",
    "predicates = set()\n",
    "\n",
    "for _, predicate, _ in g:\n",
    "    predicates.add(predicate)\n",
    "\n",
    "# Print all unique predicates\n",
    "for predicate in predicates:\n",
    "    print(predicate)"
   ]
  },
  {
   "cell_type": "code",
   "execution_count": 4,
   "id": "109d24cf-fb17-4e12-9ee0-52aac337bbfd",
   "metadata": {},
   "outputs": [
    {
     "name": "stdout",
     "output_type": "stream",
     "text": [
      "http://www.w3.org/2000/01/rdf-schema#subClassOf\n",
      "http://www.w3.org/2000/01/rdf-schema#comment\n",
      "http://www.w3.org/2000/01/rdf-schema#subPropertyOf\n",
      "http://www.w3.org/2000/01/rdf-schema#label\n",
      "http://www.w3.org/2000/01/rdf-schema#seeAlso\n",
      "http://www.w3.org/2000/01/rdf-schema#range\n",
      "http://www.w3.org/2000/01/rdf-schema#domain\n"
     ]
    }
   ],
   "source": [
    "# Looking at rdf specific predicates\n",
    "for predicate in predicates:\n",
    "    if 'rdf-schema' in predicate:\n",
    "        print(predicate)"
   ]
  },
  {
   "cell_type": "code",
   "execution_count": 5,
   "id": "4db76e93-acd5-47dc-b48d-1250a4f2396b",
   "metadata": {},
   "outputs": [
    {
     "name": "stdout",
     "output_type": "stream",
     "text": [
      "http://purl.obolibrary.org/obo/MONDO_0005180\n"
     ]
    }
   ],
   "source": [
    "# Grabbing code for Parkinson disease\n",
    "\n",
    "name = 'Parkinson disease'\n",
    "\n",
    "def code_from_name(name):\n",
    "    for subj, obj in g.subject_objects(predicate=RDFS.label):\n",
    "        if obj in name and name in obj:\n",
    "            return subj\n",
    "\n",
    "code = code_from_name(name)\n",
    "print(code)"
   ]
  },
  {
   "cell_type": "code",
   "execution_count": 7,
   "id": "75438d33-18f7-41f9-8de2-9d04d0f708be",
   "metadata": {},
   "outputs": [],
   "source": [
    "# Storing full codes of the direct children of this node\n",
    "\n",
    "child_codes = []\n",
    "\n",
    "for subj, obj in g.subject_objects(predicate=RDFS.subClassOf):\n",
    "    if code in obj:\n",
    "        child_codes.append(subj)"
   ]
  },
  {
   "cell_type": "code",
   "execution_count": 11,
   "id": "c56b2806-ac94-4e7a-a3b9-1a87fe528536",
   "metadata": {},
   "outputs": [],
   "source": [
    "# Grabbing the names (labels) of these children\n",
    "\n",
    "child_names_codes = []\n",
    "for subj, obj in g.subject_objects(predicate=RDFS.label):\n",
    "    if subj in child_codes:\n",
    "        child_names_codes.append((subj, obj))"
   ]
  },
  {
   "cell_type": "code",
   "execution_count": 12,
   "id": "1e6606f7-33c3-4676-be42-bee9ed5f9013",
   "metadata": {},
   "outputs": [],
   "source": [
    "# Cleaning the strings for printing\n",
    "child_pretty = [(code[:], name.split('/')[-1]) for name, code in child_names_codes]"
   ]
  },
  {
   "cell_type": "code",
   "execution_count": 14,
   "id": "91915d95-b964-4274-bcaa-a55edca6f533",
   "metadata": {},
   "outputs": [
    {
     "data": {
      "text/plain": [
       "[('late-onset Parkinson disease', 'MONDO_0008199'),\n",
       " ('parkinsonian-pyramidal syndrome', 'MONDO_0009830'),\n",
       " ('Parkinson disease, mitochondrial', 'MONDO_0010796'),\n",
       " ('parkinson disease 16', 'MONDO_0013167'),\n",
       " ('young-onset Parkinson disease', 'MONDO_0017279'),\n",
       " ('parkinson disease 25, autosomal recessive early-onset, with impaired intellectual development',\n",
       "  'MONDO_0957576')]"
      ]
     },
     "execution_count": 14,
     "metadata": {},
     "output_type": "execute_result"
    }
   ],
   "source": [
    "child_pretty"
   ]
  }
 ],
 "metadata": {
  "kernelspec": {
   "display_name": "Python 3 (ipykernel)",
   "language": "python",
   "name": "python3"
  },
  "language_info": {
   "codemirror_mode": {
    "name": "ipython",
    "version": 3
   },
   "file_extension": ".py",
   "mimetype": "text/x-python",
   "name": "python",
   "nbconvert_exporter": "python",
   "pygments_lexer": "ipython3",
   "version": "3.11.4"
  }
 },
 "nbformat": 4,
 "nbformat_minor": 5
}
