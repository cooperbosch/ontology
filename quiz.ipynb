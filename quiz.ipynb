{
 "cells": [
  {
   "cell_type": "code",
   "execution_count": 1,
   "id": "adfab6f0-d125-4268-bfb1-71bc2b62c67f",
   "metadata": {},
   "outputs": [],
   "source": [
    "# Imports\n",
    "from rdflib import Graph\n",
    "from rdflib.namespace import RDFS\n",
    "import time"
   ]
  },
  {
   "cell_type": "code",
   "execution_count": 2,
   "id": "d8b9fca1-069e-4b43-a221-534573cd6f2f",
   "metadata": {},
   "outputs": [
    {
     "name": "stdout",
     "output_type": "stream",
     "text": [
      "parsing\n",
      "parsed in 138 seconds\n"
     ]
    }
   ],
   "source": [
    "# Takes a while to run\n",
    "print('parsing')\n",
    "\n",
    "start = time.time()\n",
    "\n",
    "g = Graph()\n",
    "g.parse(\"mondo.owl\")\n",
    "\n",
    "print('parsed in ' + str(int(time.time() - start)) + ' seconds')"
   ]
  },
  {
   "cell_type": "code",
   "execution_count": 15,
   "id": "ea7475dd-5b53-4f0b-bc3a-54a3db7411a8",
   "metadata": {
    "scrolled": true
   },
   "outputs": [
    {
     "name": "stdout",
     "output_type": "stream",
     "text": [
      "http://www.w3.org/2000/01/rdf-schema#subClassOf\n",
      "http://www.w3.org/2000/01/rdf-schema#comment\n",
      "http://www.w3.org/2000/01/rdf-schema#subPropertyOf\n",
      "http://www.w3.org/2000/01/rdf-schema#label\n",
      "http://www.w3.org/2000/01/rdf-schema#seeAlso\n",
      "http://www.w3.org/2000/01/rdf-schema#range\n",
      "http://www.w3.org/2000/01/rdf-schema#domain\n"
     ]
    }
   ],
   "source": [
    "# Some exploration of our graph\n",
    "predicates = set()\n",
    "\n",
    "for _, predicate, _ in g:\n",
    "    predicates.add(predicate)\n",
    "\n",
    "# Print all unique predicates\n",
    "# for predicate in predicates:\n",
    "#     print(predicate)\n",
    "\n",
    "# Looking at rdf specific predicates\n",
    "for predicate in predicates:\n",
    "    if 'rdf-schema' in predicate:\n",
    "        print(predicate)"
   ]
  },
  {
   "cell_type": "code",
   "execution_count": 5,
   "id": "4db76e93-acd5-47dc-b48d-1250a4f2396b",
   "metadata": {},
   "outputs": [
    {
     "name": "stdout",
     "output_type": "stream",
     "text": [
      "http://purl.obolibrary.org/obo/MONDO_0005180\n"
     ]
    }
   ],
   "source": [
    "# Grabbing code for Parkinson disease\n",
    "\n",
    "name = 'Parkinson disease'\n",
    "\n",
    "def code_from_name(name):\n",
    "    for subj, obj in g.subject_objects(predicate=RDFS.label):\n",
    "        if obj in name and name in obj:\n",
    "            return subj\n",
    "\n",
    "code = code_from_name(name)\n",
    "print(code)"
   ]
  },
  {
   "cell_type": "code",
   "execution_count": 7,
   "id": "75438d33-18f7-41f9-8de2-9d04d0f708be",
   "metadata": {},
   "outputs": [],
   "source": [
    "# Storing full codes of the direct children of this node\n",
    "\n",
    "child_codes = []\n",
    "\n",
    "for subj, obj in g.subject_objects(predicate=RDFS.subClassOf):\n",
    "    if code in obj:\n",
    "        child_codes.append(subj)"
   ]
  },
  {
   "cell_type": "code",
   "execution_count": 11,
   "id": "c56b2806-ac94-4e7a-a3b9-1a87fe528536",
   "metadata": {},
   "outputs": [],
   "source": [
    "# Grabbing the names (labels) of these children\n",
    "\n",
    "child_names_codes = []\n",
    "for subj, obj in g.subject_objects(predicate=RDFS.label):\n",
    "    if subj in child_codes:\n",
    "        child_names_codes.append((subj, obj))"
   ]
  },
  {
   "cell_type": "code",
   "execution_count": 12,
   "id": "1e6606f7-33c3-4676-be42-bee9ed5f9013",
   "metadata": {},
   "outputs": [],
   "source": [
    "# Cleaning the strings for printing\n",
    "child_pretty = [(code[:], name.split('/')[-1]) for name, code in child_names_codes]"
   ]
  },
  {
   "cell_type": "code",
   "execution_count": 18,
   "id": "eca2d8fc-5bb8-4460-b7d1-2a0559e55f45",
   "metadata": {},
   "outputs": [
    {
     "name": "stdout",
     "output_type": "stream",
     "text": [
      "late-onset Parkinson disease                                                                   MONDO_0008199\n",
      "parkinsonian-pyramidal syndrome                                                                MONDO_0009830\n",
      "Parkinson disease, mitochondrial                                                               MONDO_0010796\n",
      "parkinson disease 16                                                                           MONDO_0013167\n",
      "young-onset Parkinson disease                                                                  MONDO_0017279\n",
      "parkinson disease 25, autosomal recessive early-onset, with impaired intellectual development  MONDO_0957576\n"
     ]
    }
   ],
   "source": [
    "for name, code in child_pretty:\n",
    "    s = name + ' '*(95 - len(name)) + code\n",
    "    print(s)"
   ]
  },
  {
   "cell_type": "markdown",
   "id": "58e76c84-be9a-47fe-84af-acfa510a015e",
   "metadata": {},
   "source": [
    "### Analysis\n",
    "\n",
    "In the above format there is no differentiation between branch and leaf nodes. In the OWL interface, it is clear which of the 6 children are also parents themselves. For example under 'young-onset Parkinson disease' the OWL interface shows us there are 13 subcategories of this node for further exploration and specification."
   ]
  },
  {
   "cell_type": "code",
   "execution_count": null,
   "id": "73e449c5-d1c8-4722-a296-bae07b1fe989",
   "metadata": {},
   "outputs": [],
   "source": []
  }
 ],
 "metadata": {
  "kernelspec": {
   "display_name": "Python 3 (ipykernel)",
   "language": "python",
   "name": "python3"
  },
  "language_info": {
   "codemirror_mode": {
    "name": "ipython",
    "version": 3
   },
   "file_extension": ".py",
   "mimetype": "text/x-python",
   "name": "python",
   "nbconvert_exporter": "python",
   "pygments_lexer": "ipython3",
   "version": "3.11.4"
  }
 },
 "nbformat": 4,
 "nbformat_minor": 5
}
